{
 "cells": [
  {
   "cell_type": "markdown",
   "metadata": {},
   "source": [
    "### Linear RNN \n",
    "\n",
    "For a linear RNN with dynamic :\n",
    "$$\n",
    "\\begin{equation}\n",
    "\\begin{aligned}\n",
    "\t\t    h{(t)} &=  Wh(t-1) + U x(t),\\\\\n",
    "\t\t    \\hat y(t) &= c^{\\top} h(t), \\\\\n",
    "\t\t   \\text{with } c \\in \\mathbb R^{m} , W &\\in \\mathbb R^{m\\times m}, U \\in \\mathbb R^{m\\times d}, h(-1) = 0.\n",
    "\t\t\\end{aligned}\n",
    "\\end{equation}\n",
    "$$\n",
    "\n",
    "It is solved as \n",
    "\n",
    "$$\n",
    "\\begin{equation}\n",
    "\\begin{aligned}\n",
    "\t\t     \\hat y(t) = \\sum_{s=0}^t c^\\top W^{t-s}Ux(s)\n",
    "\t\t\\end{aligned}\n",
    "\\end{equation}\n",
    "$$\n",
    "\n",
    "\n",
    "A linear RNN encoder-decoder is written as :\n",
    "$$\n",
    "\\begin{equation}\n",
    "\\begin{aligned}\n",
    "\t\t    h{(t)} &=  Wh(t-1) + U x(t), \\quad \\, v = Mh(\\tau) \\\\\n",
    "\t\t\tg(t)& = Vg(t-1), \\quad\\quad\\quad\\quad g(0) = v \\\\\n",
    "\t\t\t\\hat y(t) &= c^{\\top} g(t), \\\\\n",
    "\t\t   \\text{with } c \\in \\mathbb R^{m} , W &\\in \\mathbb R^{m\\times m}, U \\in \\mathbb R^{m\\times d}, h(-1) = 0.\n",
    "\t\t\\end{aligned}\n",
    "\\end{equation}\n",
    "$$\n",
    "\n",
    "It is solved as \n",
    "\n",
    "$$\n",
    "\\begin{equation}\n",
    "\\begin{aligned}\n",
    "\t\t     \\hat y(t) = \\sum_{s=0}^\\tau c^\\top V^{t}MW^{\\tau-s}Ux(s)\n",
    "\t\t\\end{aligned}\n",
    "\\end{equation}\n",
    "$$"
   ]
  },
  {
   "cell_type": "markdown",
   "metadata": {},
   "source": []
  }
 ],
 "metadata": {
  "language_info": {
   "name": "python"
  },
  "orig_nbformat": 4
 },
 "nbformat": 4,
 "nbformat_minor": 2
}
